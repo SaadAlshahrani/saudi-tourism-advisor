{
 "cells": [
  {
   "cell_type": "code",
   "execution_count": null,
   "id": "00cdddc7",
   "metadata": {},
   "outputs": [],
   "source": [
    "import requests\n",
    "import os\n",
    "\n",
    "from dotenv import load_dotenv\n",
    "from langchain.chat_models import init_chat_model\n",
    "from langchain_core.prompts import PromptTemplate\n",
    "from langgraph.graph import START, StateGraph\n",
    "from typing_extensions import List, TypedDict"
   ]
  },
  {
   "cell_type": "code",
   "execution_count": null,
   "id": "a10462a6",
   "metadata": {},
   "outputs": [],
   "source": [
    "# Environment variables\n",
    "load_dotenv()\n",
    "\n",
    "# APIs\n",
    "# geocoding_uri = 'https://nominatim.openstreetmap.org/search'\n",
    "GEOCODE_URI = 'https://api.opencagedata.com/geocode/v1/json'\n",
    "WEATHER_URI = 'https://api.tomorrow.io/v4/weather/forecast'\n",
    "POI_URI = 'https://places-api.foursquare.com/places/search'"
   ]
  },
  {
   "cell_type": "code",
   "execution_count": null,
   "id": "e1ca6cd6",
   "metadata": {},
   "outputs": [],
   "source": [
    "# Initialize LLM and custom prompt\n",
    "llm = init_chat_model('gemini-2.0-flash', model_provider='google_genai')\n",
    "prompt = PromptTemplate.from_template(\"You are an assistant for giving rich descriptions on locations and cities around the world for tourism. Using your knowledge base, and given the following weather information and at most 3 points of interest chosen at your discretion in that location, give a rich description of the location. Be creative.\\nLocation: {location}\\nLocation information: {location_information}\\nAnswer:\")"
   ]
  },
  {
   "cell_type": "code",
   "execution_count": null,
   "id": "0ddd257d",
   "metadata": {},
   "outputs": [],
   "source": [
    "# State class for LangChain Graph\n",
    "class State(TypedDict):\n",
    "    location: str\n",
    "    location_information: str\n",
    "    answer: str"
   ]
  },
  {
   "cell_type": "code",
   "execution_count": null,
   "id": "db3a5bed",
   "metadata": {},
   "outputs": [],
   "source": [
    "# Retrieve information from APIs\n",
    "\n",
    "def retrieve_location_info(state: State):\n",
    "    # Retrieve latitude and longtitude from geocode api\n",
    "    query = state['location']\n",
    "    geo_response = requests.get(GEOCODE_URI, params={'q': query, 'key': os.environ['OPENCAGE_API_KEY']})\n",
    "    lat = geo_response.json()['results'][0]['geometry']['lat']\n",
    "    lon = geo_response.json()['results'][0]['geometry']['lng']\n",
    "\n",
    "    # Retrieve weather information from coordinates\n",
    "    weather_headers = {\n",
    "    \"accept\": \"application/json\",\n",
    "    \"accept-encoding\": \"deflate, gzip, br\"\n",
    "    }\n",
    "    weather_query = f\"{lat},{lon}\"\n",
    "    weather_response = requests.get(WEATHER_URI, headers=weather_headers, params={'location': weather_query, 'apikey': os.environ['WEATHER_API_KEY']})\n",
    "    \n",
    "    weather_str = ['Weather Information for This Location for the Next 6 Days: \\n\\n']\n",
    "    for day in weather_response.json()['timelines']['daily']:\n",
    "        weather_str.append(f\"{day['time'][:10]} | Max Temp: {day['values']['temperatureMax']}°C | Feels Like: {day['values']['temperatureApparentMax']}°C\\n\"\n",
    "        f\"Avg Humidity: {day['values']['humidityAvg']}%\\n\"\n",
    "        f\"Rain Probability: {day['values']['precipitationProbabilityMax']}%\\n\\n\")\n",
    "    weather_str = ''.join(weather_str)\n",
    "        \n",
    "    # Retrieve POI information from coordinates\n",
    "    poi_headers = {\n",
    "    \"accept\": \"application/json\",\n",
    "    \"X-Places-Api-Version\": \"2025-06-17\",\n",
    "    \"authorization\": f\"Bearer {os.environ['POI_API_KEY']}\"\n",
    "    }\n",
    "    category_ids = '4bf58dd8d48988d182941735,4bf58dd8d48988d181941735,4d4b7105d754a06377d81259'\n",
    "    poi_response = requests.get(POI_URI, headers=poi_headers, params={'ll': weather_query, 'radius': 100000, 'fsq_category_ids': category_ids, 'fields': 'name,categories,location', 'limit': 20})\n",
    "\n",
    "    poi_str = ['Points of Interest in This Location: \\n\\n']\n",
    "    for location in poi_response.json()['results']:\n",
    "        poi_str.append(f\"POI Type: {location['categories'][0]['name']}\\n\"\n",
    "        f\"Name: {location['name']}\\n\"\n",
    "        f\"Address: {location['location']['formatted_address']}\\n\\n\")\n",
    "    poi_str = ''.join(poi_str)\n",
    "    \n",
    "    # Concatenate and return full information\n",
    "    return {'location_information': ''.join([weather_str, poi_str])}"
   ]
  },
  {
   "cell_type": "code",
   "execution_count": null,
   "id": "457cffe0",
   "metadata": {},
   "outputs": [],
   "source": [
    "# Generate LLM response\n",
    "def generate(state: State):\n",
    "    messages = prompt.invoke({'location': state['location'], 'location_information': state['location_information']})\n",
    "    response = llm.invoke(messages)\n",
    "    return {'answer': response.content}"
   ]
  },
  {
   "cell_type": "code",
   "execution_count": null,
   "id": "e9ccd757",
   "metadata": {},
   "outputs": [],
   "source": [
    "# Create graph workflow\n",
    "graph_builder = StateGraph(State).add_sequence([retrieve_location_info, generate])\n",
    "graph_builder.add_edge(START, 'retrieve_location_info')   \n",
    "graph = graph_builder.compile() "
   ]
  },
  {
   "cell_type": "code",
   "execution_count": 323,
   "id": "08db73f4",
   "metadata": {},
   "outputs": [
    {
     "name": "stdout",
     "output_type": "stream",
     "text": [
      "Answer: \n",
      "Step into Munich in mid-July, where a delightful blend of Bavarian charm and summery warmth awaits. For the first half of your visit, expect temperatures dancing around the high 20s to low 30s Celsius, feeling just as pleasant with moderate humidity and negligible chance of rain. Perfect weather for strolling through the city's many parks and plazas. The latter half of the week brings slightly cooler temperatures, with a higher chance of rain, so pack an umbrella just in case!\n",
      "\n",
      "Imagine yourself standing in the heart of the city at **Marienplatz**, the vibrant central square. The sun warms your face as you gaze upon the impressive Neues Rathaus (New Town Hall), its intricate facade teeming with gothic details. Listen for the melodic chimes of the Glockenspiel, a historical clock that reenacts stories from Munich's past with charming figurines. Street performers add to the lively atmosphere, creating a symphony of sights and sounds.\n",
      "\n",
      "From there, escape the urban bustle with a leisurely walk through the **Hofgarten**. This elegant garden, a stone's throw from Marienplatz, offers a tranquil oasis of manicured lawns, baroque architecture, and shaded arcades. Find a quiet bench beneath the chestnut trees, breathe in the fragrant air, and watch as locals and tourists alike unwind and enjoy the serene ambiance.\n",
      "\n",
      "For a taste of something truly unique, head to the **Eisbach Wave (Eisbachwelle)** in the Englischer Garten. Here, in the heart of the city, you'll find a permanent standing wave where surfers ride the currents, a spectacle that never fails to draw a crowd. The energy is infectious as you watch these urban surfers carve through the water, a testament to Munich's quirky and adventurous spirit.\n"
     ]
    }
   ],
   "source": [
    "result = graph.invoke({'location': 'Munich, Germany'})\n",
    "print(f\"Answer: \\n{result['answer']}\")"
   ]
  }
 ],
 "metadata": {
  "kernelspec": {
   "display_name": "env",
   "language": "python",
   "name": "python3"
  },
  "language_info": {
   "codemirror_mode": {
    "name": "ipython",
    "version": 3
   },
   "file_extension": ".py",
   "mimetype": "text/x-python",
   "name": "python",
   "nbconvert_exporter": "python",
   "pygments_lexer": "ipython3",
   "version": "3.11.5"
  }
 },
 "nbformat": 4,
 "nbformat_minor": 5
}
