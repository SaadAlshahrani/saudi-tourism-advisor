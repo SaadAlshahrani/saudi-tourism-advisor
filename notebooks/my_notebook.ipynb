{
 "cells": [
  {
   "cell_type": "code",
   "execution_count": null,
   "id": "00cdddc7",
   "metadata": {},
   "outputs": [],
   "source": [
    "import requests\n",
    "import os\n",
    "\n",
    "from dotenv import load_dotenv\n",
    "from langchain.chat_models import init_chat_model\n",
    "from langchain_core.prompts import PromptTemplate\n",
    "from langgraph.graph import START, StateGraph\n",
    "from typing_extensions import List, TypedDict"
   ]
  },
  {
   "cell_type": "code",
   "execution_count": null,
   "id": "a10462a6",
   "metadata": {},
   "outputs": [],
   "source": [
    "# Environment variables\n",
    "load_dotenv()\n",
    "\n",
    "# APIs\n",
    "# geocoding_uri = 'https://nominatim.openstreetmap.org/search'\n",
    "GEOCODE_URI = 'https://api.opencagedata.com/geocode/v1/json'\n",
    "WEATHER_URI = 'https://api.tomorrow.io/v4/weather/forecast'\n",
    "POI_URI = 'https://places-api.foursquare.com/places/search'"
   ]
  },
  {
   "cell_type": "code",
   "execution_count": 21,
   "id": "e1ca6cd6",
   "metadata": {},
   "outputs": [],
   "source": [
    "# Initialize LLM and custom prompts\n",
    "llm = init_chat_model('gemini-2.0-flash', model_provider='google_genai')\n",
    "location_prompt = PromptTemplate.from_template('Your task is to extract the location from a user query.\\nQuery: {query}\\nLocation: ')\n",
    "describe_prompt = PromptTemplate.from_template(\"You are an assistant for giving rich descriptions on locations and cities around the world for tourism. Using your knowledge base, and given the following weather information and at most 3 points of interest chosen at your discretion in that location, give a rich description of the location. Be creative.\\nLocation: {location}\\nLocation information: {location_information}\\nAnswer:\")"
   ]
  },
  {
   "cell_type": "code",
   "execution_count": 29,
   "id": "0ddd257d",
   "metadata": {},
   "outputs": [],
   "source": [
    "# State class for LangChain Graph\n",
    "class State(TypedDict):\n",
    "    query: str\n",
    "    location: str\n",
    "    location_information: str\n",
    "    answer: str"
   ]
  },
  {
   "cell_type": "code",
   "execution_count": 35,
   "id": "04276cbe",
   "metadata": {},
   "outputs": [],
   "source": [
    "def extract_city(state: State):\n",
    "    extraction_prompt = location_prompt.invoke({'query': state['query']})\n",
    "    response = llm.invoke(extraction_prompt)\n",
    "    return {'location': response.content}"
   ]
  },
  {
   "cell_type": "code",
   "execution_count": 36,
   "id": "db3a5bed",
   "metadata": {},
   "outputs": [],
   "source": [
    "# Retrieve information from APIs\n",
    "\n",
    "def retrieve_location_info(state: State):\n",
    "    # Retrieve latitude and longtitude from geocode api\n",
    "    destination = state['location']\n",
    "    geo_response = requests.get(GEOCODE_URI, params={'q': destination, 'key': os.environ['OPENCAGE_API_KEY']})\n",
    "    lat = geo_response.json()['results'][0]['geometry']['lat']\n",
    "    lon = geo_response.json()['results'][0]['geometry']['lng']\n",
    "\n",
    "    # Retrieve weather information from coordinates\n",
    "    weather_headers = {\n",
    "    \"accept\": \"application/json\",\n",
    "    \"accept-encoding\": \"deflate, gzip, br\"\n",
    "    }\n",
    "    weather_query = f\"{lat},{lon}\"\n",
    "    weather_response = requests.get(WEATHER_URI, headers=weather_headers, params={'location': weather_query, 'apikey': os.environ['WEATHER_API_KEY']})\n",
    "    \n",
    "    weather_str = ['Weather Information for This Location for the Next 6 Days: \\n\\n']\n",
    "    for day in weather_response.json()['timelines']['daily']:\n",
    "        weather_str.append(f\"{day['time'][:10]} | Max Temp: {day['values']['temperatureMax']}°C | Feels Like: {day['values']['temperatureApparentMax']}°C\\n\"\n",
    "        f\"Avg Humidity: {day['values']['humidityAvg']}%\\n\"\n",
    "        f\"Rain Probability: {day['values']['precipitationProbabilityMax']}%\\n\\n\")\n",
    "    weather_str = ''.join(weather_str)\n",
    "        \n",
    "    # Retrieve POI information from coordinates\n",
    "    poi_headers = {\n",
    "    \"accept\": \"application/json\",\n",
    "    \"X-Places-Api-Version\": \"2025-06-17\",\n",
    "    \"authorization\": f\"Bearer {os.environ['POI_API_KEY']}\"\n",
    "    }\n",
    "    category_ids = '4bf58dd8d48988d182941735,4bf58dd8d48988d181941735,4d4b7105d754a06377d81259'\n",
    "    poi_response = requests.get(POI_URI, headers=poi_headers, params={'ll': weather_query, 'radius': 100000, 'fsq_category_ids': category_ids, 'fields': 'name,categories,location', 'limit': 20})\n",
    "\n",
    "    poi_str = ['Points of Interest in This Location: \\n\\n']\n",
    "    for location in poi_response.json()['results']:\n",
    "        poi_str.append(f\"POI Type: {location['categories'][0]['name']}\\n\"\n",
    "        f\"Name: {location['name']}\\n\"\n",
    "        f\"Address: {location['location']['formatted_address']}\\n\\n\")\n",
    "    poi_str = ''.join(poi_str)\n",
    "    \n",
    "    # Concatenate and return full information\n",
    "    return {'location_information': ''.join([weather_str, poi_str])}"
   ]
  },
  {
   "cell_type": "code",
   "execution_count": 37,
   "id": "457cffe0",
   "metadata": {},
   "outputs": [],
   "source": [
    "# Generate LLM response\n",
    "def generate(state: State):\n",
    "    messages = describe_prompt.invoke({'location': state['location'], 'location_information': state['location_information']})\n",
    "    response = llm.invoke(messages)\n",
    "    return {'answer': response.content}"
   ]
  },
  {
   "cell_type": "code",
   "execution_count": 38,
   "id": "e9ccd757",
   "metadata": {},
   "outputs": [],
   "source": [
    "# Create graph workflow\n",
    "graph_builder = StateGraph(State).add_sequence([extract_city, retrieve_location_info, generate])\n",
    "graph_builder.add_edge(START, 'extract_city')\n",
    "graph = graph_builder.compile() "
   ]
  },
  {
   "cell_type": "code",
   "execution_count": null,
   "id": "08db73f4",
   "metadata": {},
   "outputs": [
    {
     "name": "stdout",
     "output_type": "stream",
     "text": [
      "Answer: \n",
      "Ah, Paris! The City of Lights beckons with open arms this week, a gentle warmth kissing your skin as you stroll along the Seine. Picture this: the sun, a generous artist, paints the city in golden hues, especially on Thursday, where temperatures flirt with a delightful 30°C (86°F). The air is crisp, a mere 51% humidity, practically begging you to lose yourself in the city's charm. As the week progresses, the temperature mellows into the mid-20s, with a slight chance of a refreshing Parisian shower, so be prepared just in case.\n",
      "\n",
      "Let's begin your Parisian adventure at the **Orsay Museum**. Housed in a magnificent former train station, it's a treasure trove of Impressionist and Post-Impressionist masterpieces. Imagine standing before Monet's \"Poppies,\" the vibrant colors almost leaping off the canvas, or gazing upon Van Gogh's self-portrait, feeling the intensity of his gaze across the decades.\n",
      "\n",
      "Next, a leisurely stroll through the **Tuileries Garden** is in order. Once the playground of royalty, now a haven for Parisians and visitors alike. Find a quiet bench near the Grand Bassin Rond, a circular pond, and watch the sailboats glide across the water, a symphony of white against the azure sky. The air is filled with the scent of roses and the gentle murmur of conversation, a true Parisian oasis.\n",
      "\n",
      "Finally, as the sun dips below the horizon, casting long shadows across the city, make your way to the **Eiffel Tower**. This iconic symbol of Paris needs no introduction. Ascend to the top, and be rewarded with a breathtaking panoramic view of the city sparkling beneath you. The Seine, a ribbon of light, winds its way through the urban landscape, connecting all the city's wonders. Feel the cool breeze on your face, the thrill of being in one of the world's most romantic cities, and know that you've truly experienced the magic of Paris.\n"
     ]
    }
   ],
   "source": [
    "result = graph.invoke({'query': 'How is paris looking like nowadays?'})\n",
    "print(f\"Answer: \\n{result['answer']}\")"
   ]
  },
  {
   "cell_type": "code",
   "execution_count": null,
   "id": "8c897084",
   "metadata": {},
   "outputs": [],
   "source": []
  }
 ],
 "metadata": {
  "kernelspec": {
   "display_name": "env",
   "language": "python",
   "name": "python3"
  },
  "language_info": {
   "codemirror_mode": {
    "name": "ipython",
    "version": 3
   },
   "file_extension": ".py",
   "mimetype": "text/x-python",
   "name": "python",
   "nbconvert_exporter": "python",
   "pygments_lexer": "ipython3",
   "version": "3.11.5"
  }
 },
 "nbformat": 4,
 "nbformat_minor": 5
}
